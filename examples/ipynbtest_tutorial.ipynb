{
 "cells": [
  {
   "cell_type": "markdown",
   "metadata": {},
   "source": [
    "## IPython Notebook Test"
   ]
  },
  {
   "cell_type": "markdown",
   "metadata": {},
   "source": [
    "A simple test for the `ipynbtest.py` file that tests IPython notebooks. It should also explain the basic functionality and command-line options. Use the command\n",
    "\n",
    "```\n",
    "ipynbtest.py --eval \"denom=0\" --timeout 2 --restart-if-fail 1 examples/ipynbtest_tutorial.ipynb\n",
    "```"
   ]
  },
  {
   "cell_type": "markdown",
   "metadata": {},
   "source": [
    "### Usage output\n",
    "To get the help use\n",
    "```\n",
    "python ipynbtest.py -h\n",
    "```\n",
    "which outputs\n",
    "```\n",
    "usage: ipynbtest.py [-h] [--timeout TIMEOUT] [--rerun-if-timeout [RERUN]]\n",
    "                    [--restart-if-fail [RESTART]] [--strict] [--eval [EVAL]]\n",
    "                    [--pass-if-timeout] [--show-diff] [--abort-if-fail]\n",
    "                    [--verbose]\n",
    "                    file.ipynb\n",
    "\n",
    "Run all cells in an ipython notebook as a test and check whether these\n",
    "successfully execute and compares their output to the one inside the notebook\n",
    "\n",
    "positional arguments:\n",
    "  file.ipynb            the notebook to be checked\n",
    "\n",
    "optional arguments:\n",
    "  -h, --help            show this help message and exit\n",
    "  --timeout TIMEOUT     the default timeout time in seconds for a cell\n",
    "                        evaluation. Default is 300s (5mins). Note that travis\n",
    "                        will consider it an error by default if after 600s\n",
    "                        (10mins) no output is generated. So 600s is the\n",
    "                        default limit by travis. However, a test cell that\n",
    "                        takes this long should be split in more than one or\n",
    "                        simplified.\n",
    "  --rerun-if-timeout [RERUN]\n",
    "                        if set then a timeout in a cell will cause to run the.\n",
    "                        Default is 2 (means make up to 3 attempts)\n",
    "  --restart-if-fail [RESTART]\n",
    "                        if set then a fail in a cell will cause to restart the\n",
    "                        full notebook!. Default is 0 (means NO rerun).Use this\n",
    "                        with care.\n",
    "  --strict              if set to true then the default test is that cell have\n",
    "                        to match otherwise a diff will not be considered a\n",
    "                        failed test\n",
    "  --eval [EVAL]         the argument will be run before the first cell is\n",
    "                        executed. This can be used to set specific values\n",
    "                        without changing the notebook.\n",
    "  --pass-if-timeout     if set then a timeout (after last retry) is considered\n",
    "                        a passed test\n",
    "  --show-diff           if set to true differences in the cell are shown in\n",
    "                        `diff` style\n",
    "  --abort-if-fail       if set to true then a fail will stop the whole test.\n",
    "  --verbose             if set then text output is send to the console.\n",
    "```"
   ]
  },
  {
   "cell_type": "markdown",
   "metadata": {},
   "source": [
    "### simple example"
   ]
  },
  {
   "cell_type": "markdown",
   "metadata": {},
   "source": [
    "This is fixed and will not cause a diff"
   ]
  },
  {
   "cell_type": "code",
   "execution_count": 1,
   "metadata": {
    "collapsed": false
   },
   "outputs": [
    {
     "data": {
      "text/plain": [
       "[0, 1, 2, 3, 4, 5, 6, 7, 8, 9]"
      ]
     },
     "execution_count": 1,
     "metadata": {},
     "output_type": "execute_result"
    }
   ],
   "source": [
    "range(10)"
   ]
  },
  {
   "cell_type": "markdown",
   "metadata": {},
   "source": [
    "### show differences"
   ]
  },
  {
   "cell_type": "markdown",
   "metadata": {},
   "source": [
    "```\n",
    "--show-diff\n",
    "```\n",
    "This option will output a `diff`-like comparion of both cells to show what is different in the output. This will only be enabled for cell with text-like output, (e.g. text, html). It is automatically disabled for pictures and SVG."
   ]
  },
  {
   "cell_type": "markdown",
   "metadata": {},
   "source": [
    "### cell specific commands"
   ]
  },
  {
   "cell_type": "markdown",
   "metadata": {},
   "source": [
    "You can start a cell with a hashbang `#!` and add some commands to it like\n",
    "```\n",
    "#! skip              : will not even execute a cell and just skip it\n",
    "#! ignore            : will run the cell, but not fail if anything happens and just continue\n",
    "#! timeout:[seconds] : will set the timeout for this cell to the given value\n",
    "#! lazy              : will accept a cell with diffs, even in strict mode\n",
    "#! strict            : will fail the cell if it has a diff\n",
    "#! verbose           : will send the output (text) to the console\n",
    "#! quiet             : will not send the output to the console even in verbose mode\n",
    "```"
   ]
  },
  {
   "cell_type": "markdown",
   "metadata": {},
   "source": [
    "This cell still passes, although it raises an exception"
   ]
  },
  {
   "cell_type": "code",
   "execution_count": 2,
   "metadata": {
    "collapsed": false
   },
   "outputs": [
    {
     "ename": "NameError",
     "evalue": "name 'denom' is not defined",
     "output_type": "error",
     "traceback": [
      "\u001b[0;31m---------------------------------------------------------------------------\u001b[0m",
      "\u001b[0;31mNameError\u001b[0m                                 Traceback (most recent call last)",
      "\u001b[0;32m<ipython-input-2-18f97fdfd092>\u001b[0m in \u001b[0;36m<module>\u001b[0;34m()\u001b[0m\n\u001b[1;32m      1\u001b[0m \u001b[0;31m#! ignore\u001b[0m\u001b[0;34m\u001b[0m\u001b[0;34m\u001b[0m\u001b[0m\n\u001b[0;32m----> 2\u001b[0;31m \u001b[0;36m1\u001b[0m\u001b[0;34m/\u001b[0m\u001b[0mdenom\u001b[0m\u001b[0;34m\u001b[0m\u001b[0m\n\u001b[0m",
      "\u001b[0;31mNameError\u001b[0m: name 'denom' is not defined"
     ]
    }
   ],
   "source": [
    "#! ignore\n",
    "1/denom"
   ]
  },
  {
   "cell_type": "markdown",
   "metadata": {},
   "source": [
    "This cell is not run, although it is okay"
   ]
  },
  {
   "cell_type": "markdown",
   "metadata": {},
   "source": [
    "### strict mode"
   ]
  },
  {
   "cell_type": "markdown",
   "metadata": {},
   "source": [
    "```\n",
    "  --strict\n",
    "```\n",
    "The strict mode only causes cell with differing output to fail. Default setting is that a diff is okay.\n",
    "\n",
    "Note that UUIDs and hex adresses (usually memory adresses) are always replaced by a unique address so different memory addresses will not cause a diff"
   ]
  },
  {
   "cell_type": "code",
   "execution_count": 3,
   "metadata": {
    "collapsed": true
   },
   "outputs": [],
   "source": [
    "import uuid"
   ]
  },
  {
   "cell_type": "markdown",
   "metadata": {},
   "source": [
    "This causes a diff"
   ]
  },
  {
   "cell_type": "code",
   "execution_count": 4,
   "metadata": {
    "collapsed": false
   },
   "outputs": [
    {
     "data": {
      "text/plain": [
       "36"
      ]
     },
     "execution_count": 4,
     "metadata": {},
     "output_type": "execute_result"
    }
   ],
   "source": [
    "len(str(uuid.uuid1()))"
   ]
  },
  {
   "cell_type": "code",
   "execution_count": 5,
   "metadata": {
    "collapsed": false
   },
   "outputs": [
    {
     "data": {
      "text/plain": [
       "UUID('fd6f4319-7feb-11e6-af1b-b8f6b1111687')"
      ]
     },
     "execution_count": 5,
     "metadata": {},
     "output_type": "execute_result"
    }
   ],
   "source": [
    "#! verbose\n",
    "uuid.uuid1()"
   ]
  },
  {
   "cell_type": "code",
   "execution_count": 6,
   "metadata": {
    "collapsed": false
   },
   "outputs": [
    {
     "data": {
      "text/plain": [
       "'d298563a'"
      ]
     },
     "execution_count": 6,
     "metadata": {},
     "output_type": "execute_result"
    }
   ],
   "source": [
    "str(uuid.uuid4()).split('-')[0]"
   ]
  },
  {
   "cell_type": "markdown",
   "metadata": {},
   "source": [
    "This, however, is fine!"
   ]
  },
  {
   "cell_type": "code",
   "execution_count": 7,
   "metadata": {
    "collapsed": false
   },
   "outputs": [
    {
     "data": {
      "text/plain": [
       "UUID('816c25c0-1fd9-4d75-a55a-41757a9d4331')"
      ]
     },
     "execution_count": 7,
     "metadata": {},
     "output_type": "execute_result"
    }
   ],
   "source": [
    "uuid.uuid4()"
   ]
  },
  {
   "cell_type": "markdown",
   "metadata": {},
   "source": [
    "so is this"
   ]
  },
  {
   "cell_type": "code",
   "execution_count": 8,
   "metadata": {
    "collapsed": false
   },
   "outputs": [
    {
     "data": {
      "text/plain": [
       "<__main__.A at 0x106c4ae10>"
      ]
     },
     "execution_count": 8,
     "metadata": {},
     "output_type": "execute_result"
    }
   ],
   "source": [
    "class A(object):\n",
    "    pass\n",
    "\n",
    "a = A()\n",
    "a"
   ]
  },
  {
   "cell_type": "markdown",
   "metadata": {},
   "source": [
    "#### Cause a time out and rerun"
   ]
  },
  {
   "cell_type": "markdown",
   "metadata": {},
   "source": [
    "A timeout is caused if the evaluation of a cell takes too long. The default timeout happens after 300s or 5minutes. Keep in mind that usually notebooks are used also for illustrative purposes and therefore are similar to an integration test. This means that for once we want to keep the run time per cell short to make it a reasonable example that executes in acceptable time. Second purpose is to show that a combination of several cells in a typical test run should give expected results. So keep the evaluation of each cell short and focussed on a single thing to happen at a time.\n",
    "\n",
    "Also, remember that travis has an internel timeout of 10 minutes (if not manually changed) and will stop a build if no results are received. Make sure that either your cell will send at least some results within 10 minutes if you extend the timeout beyond 600s (10mins).\n",
    "\n",
    "Lastly, try to avoid that timeouts happen. This is an indication of a poor test or example design."
   ]
  },
  {
   "cell_type": "code",
   "execution_count": 9,
   "metadata": {
    "collapsed": true
   },
   "outputs": [],
   "source": [
    "import time"
   ]
  },
  {
   "cell_type": "code",
   "execution_count": 10,
   "metadata": {
    "collapsed": true
   },
   "outputs": [],
   "source": [
    "timeout_first_run = True"
   ]
  },
  {
   "cell_type": "code",
   "execution_count": 11,
   "metadata": {
    "collapsed": false
   },
   "outputs": [
    {
     "name": "stdout",
     "output_type": "stream",
     "text": [
      "slow\n"
     ]
    }
   ],
   "source": [
    "if timeout_first_run:\n",
    "    timeout_first_run = False\n",
    "    time.sleep(3)\n",
    "    print 'slow'\n",
    "else:\n",
    "    pass\n",
    "    print 'fast'"
   ]
  },
  {
   "cell_type": "markdown",
   "metadata": {},
   "source": [
    "Just check that multiple mixed output is treated correctly."
   ]
  },
  {
   "cell_type": "code",
   "execution_count": 12,
   "metadata": {
    "collapsed": false
   },
   "outputs": [
    {
     "name": "stdout",
     "output_type": "stream",
     "text": [
      "1\n"
     ]
    },
    {
     "data": {
      "text/plain": [
       "5"
      ]
     },
     "execution_count": 12,
     "metadata": {},
     "output_type": "execute_result"
    }
   ],
   "source": [
    "print '1'\n",
    "2 + 3"
   ]
  },
  {
   "cell_type": "markdown",
   "metadata": {},
   "source": [
    "Make an image and check if it can be tested."
   ]
  },
  {
   "cell_type": "code",
   "execution_count": 13,
   "metadata": {
    "collapsed": true
   },
   "outputs": [],
   "source": [
    "%matplotlib inline\n",
    "import matplotlib.pyplot as plt\n",
    "import random"
   ]
  },
  {
   "cell_type": "code",
   "execution_count": 14,
   "metadata": {
    "collapsed": false
   },
   "outputs": [
    {
     "data": {
      "text/plain": [
       "[<matplotlib.lines.Line2D at 0x10ee01610>]"
      ]
     },
     "execution_count": 14,
     "metadata": {},
     "output_type": "execute_result"
    },
    {
     "data": {
      "image/png": "[encoded data removed]",
      "text/plain": [
       "<matplotlib.figure.Figure at 0x10c7e4f90>"
      ]
     },
     "metadata": {},
     "output_type": "display_data"
    }
   ],
   "source": [
    "plt.plot(range(random.randint(5,20)))"
   ]
  },
  {
   "cell_type": "markdown",
   "metadata": {},
   "source": [
    "Write something to stderr and see the result in `--verbose` mode."
   ]
  },
  {
   "cell_type": "code",
   "execution_count": 15,
   "metadata": {
    "collapsed": false
   },
   "outputs": [],
   "source": [
    "import sys"
   ]
  },
  {
   "cell_type": "code",
   "execution_count": 16,
   "metadata": {
    "collapsed": false
   },
   "outputs": [
    {
     "name": "stderr",
     "output_type": "stream",
     "text": [
      "This should be displayed. But not tested for.\n",
      " So the cell is always the same.\n",
      "106"
     ]
    }
   ],
   "source": [
    "sys.stderr.write(\n",
    "    'This should be displayed. But not tested for.\\n So the cell is always the same.\\n'\n",
    "    '%d' % random.randint(0, 1000)\n",
    ")"
   ]
  },
  {
   "cell_type": "markdown",
   "metadata": {},
   "source": [
    "#### Cause a fail and restart"
   ]
  },
  {
   "cell_type": "markdown",
   "metadata": {},
   "source": [
    "The option\n",
    "```\n",
    "--restart-if-fail [max-number-of-restarts, default:0]\n",
    "```\n",
    "will cause to restart the whole notebook in a fresh kernel, if a cell executed with `fail`. Here fail means whatever you declared to be a `fail`. In `strict` mode also a difference in output will cause a restart.\n",
    "\n",
    "Also here. Be careful using this option. It is again usually a sign of poor example design should it be possible to fail, if there is no error, but some rando results involved that are not what is \"hoped\" for and thus cause a fail.\n",
    "Make sure that given the correct conditions (previous cells, etc...) a cell passes."
   ]
  },
  {
   "cell_type": "code",
   "execution_count": null,
   "metadata": {
    "collapsed": true
   },
   "outputs": [],
   "source": []
  }
 ],
 "metadata": {
  "anaconda-cloud": {},
  "kernelspec": {
   "display_name": "Python [default]",
   "language": "python",
   "name": "python2"
  },
  "language_info": {
   "codemirror_mode": {
    "name": "ipython",
    "version": 2
   },
   "file_extension": ".py",
   "mimetype": "text/x-python",
   "name": "python",
   "nbconvert_exporter": "python",
   "pygments_lexer": "ipython2",
   "version": "2.7.12"
  }
 },
 "nbformat": 4,
 "nbformat_minor": 0
}
